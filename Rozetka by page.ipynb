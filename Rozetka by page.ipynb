{
 "cells": [
  {
   "cell_type": "code",
   "execution_count": null,
   "metadata": {},
   "outputs": [],
   "source": [
    "import pandas as pd\n",
    "import requests\n",
    "from bs4 import BeautifulSoup\n",
    "import urllib.request\n",
    "\n",
    "url = 'https://rozetka.com.ua/mobile-phones/c80003/page='\n",
    "product_name = []\n",
    "image_url = []\n",
    "price = []\n",
    "link = []\n",
    "\n",
    "#Defining the opencodezscraping function\n",
    "def opencodezscraping(webpage, page_number):\n",
    "    \n",
    "    next_page = webpage + str(page_number) + '/'\n",
    "    print(next_page)\n",
    "    response= requests.get(str(next_page))\n",
    "    soup = BeautifulSoup(response.content,\"html.parser\")\n",
    "    products = soup.find_all('li', class_ = \"catalog-grid__cell catalog-grid__cell_type_slim\")\n",
    "    \n",
    "    for item in products:\n",
    "        #Name\n",
    "        name = item.find_all('a', class_ = \"goods-tile__heading\")[0]\n",
    "        #Price\n",
    "        each_price = item.find_all('span', class_='goods-tile__price-value')[0]\n",
    "        #Links to images\n",
    "        href = name.get(\"href\")\n",
    "        response_hr = requests.get(str(href))\n",
    "        soup_hr = BeautifulSoup(response_hr.content,\"html.parser\")\n",
    "        image = soup_hr.find_all(\"img\",class_=\"product-photo__picture\")\n",
    "        img_url = image[0].get(\"src\")\n",
    "        #Appending data to each array\n",
    "        product_name.append(name.get(\"title\"))      \n",
    "        price.append(each_price.text.strip())\n",
    "        link.append(href)\n",
    "        image_url.append(img_url)      \n",
    "\n",
    "   #Generating the next page url\n",
    "    if page_number < 100:\n",
    "        page_number = page_number + 1\n",
    "        print(page_number)\n",
    "        opencodezscraping(webpage, page_number)\n",
    "    #Creating dataframe with all parsed data\n",
    "    df = pd.DataFrame(product_name, columns=[\"Products\"])\n",
    "    df = pd.DataFrame(price, columns=[\"Price\"])\n",
    "    df = pd.DataFrame({'Product': product_name,\n",
    "                       'Price': price,\n",
    "                       'Image': image_url,\n",
    "                       'Link':link\n",
    "                      })\n",
    "    \n",
    "    df.to_csv(r\"file link\",encoding='cp1251')\n",
    "\n",
    "# calling the function with relevant parameters\n",
    "opencodezscraping(url, 1)\n",
    "print(\"DONE\")\n"
   ]
  },
  {
   "cell_type": "code",
   "execution_count": null,
   "metadata": {},
   "outputs": [],
   "source": []
  }
 ],
 "metadata": {
  "kernelspec": {
   "display_name": "Python 3",
   "language": "python",
   "name": "python3"
  },
  "language_info": {
   "codemirror_mode": {
    "name": "ipython",
    "version": 3
   },
   "file_extension": ".py",
   "mimetype": "text/x-python",
   "name": "python",
   "nbconvert_exporter": "python",
   "pygments_lexer": "ipython3",
   "version": "3.7.4"
  }
 },
 "nbformat": 4,
 "nbformat_minor": 2
}
